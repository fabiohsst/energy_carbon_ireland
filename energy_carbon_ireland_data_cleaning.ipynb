{
  "nbformat": 4,
  "nbformat_minor": 0,
  "metadata": {
    "colab": {
      "name": "energy_carbon_ireland_data_cleaning.ipynb",
      "provenance": [],
      "authorship_tag": "ABX9TyOVsHem42FGUbCaF1QHfMEw",
      "include_colab_link": true
    },
    "kernelspec": {
      "name": "python3",
      "display_name": "Python 3"
    },
    "language_info": {
      "name": "python"
    }
  },
  "cells": [
    {
      "cell_type": "markdown",
      "metadata": {
        "id": "view-in-github",
        "colab_type": "text"
      },
      "source": [
        "<a href=\"https://colab.research.google.com/github/fabiohsst/energy_carbon_ireland/blob/main/energy_carbon_ireland_data_cleaning.ipynb\" target=\"_parent\"><img src=\"https://colab.research.google.com/assets/colab-badge.svg\" alt=\"Open In Colab\"/></a>"
      ]
    },
    {
      "cell_type": "markdown",
      "source": [
        "# Data Cleaning"
      ],
      "metadata": {
        "id": "fVNVc9zqOeRO"
      }
    },
    {
      "cell_type": "markdown",
      "source": [
        "## Introduction "
      ],
      "metadata": {
        "id": "yXVLKLed6xSr"
      }
    },
    {
      "cell_type": "markdown",
      "source": [
        "This notebook aims to investigate the dataset provide by [Electricity Maps](https://app.electricitymaps.com/map). This dataset is referent to the year 2019 in Ireland and contains:\n",
        "\n",
        "\n",
        "*   Carbon intensity production, discharge and import averages (gCO2eq/kWh) \n",
        "\n",
        "*   Carbon rate average (gCO2eq/seconds)\n",
        "\n",
        "*   Production, storage, discharge, import, export and consumption energy average (MW)\n",
        "\n",
        "*   Power production by source (MW)\n",
        "\n",
        "*   Power consumption by source (MW)\n",
        "\n",
        "*   Third-party forecasts such as dewpoint, precipitation, solar, temperature, etc. \n",
        "\n",
        "*   Marginal power consumption (%)\n",
        "\n",
        "For furthermore information please check out the [documentantion](https://docs.google.com/spreadsheets/d/e/2PACX-1vQymR9eNK7U9bDSUBlyegx0y6FPhpe-mVBGniPzGtWDjZyHb8gI2NHSx-S49EXBhCkDe8dqfJAvsi3C/pubhtml#) provide by Electricity Map.\n",
        "\n",
        "\n",
        "\n",
        "\n",
        "\n",
        "\n"
      ],
      "metadata": {
        "id": "EilRLZl8PNAx"
      }
    },
    {
      "cell_type": "markdown",
      "source": [
        "We first start identifying the variables that we will use in that dataset.\n",
        "looking into "
      ],
      "metadata": {
        "id": "X4TDOcBD7RB8"
      }
    },
    {
      "cell_type": "code",
      "execution_count": null,
      "metadata": {
        "id": "NxJQMt72OBOH"
      },
      "outputs": [],
      "source": [
        ""
      ]
    }
  ]
}